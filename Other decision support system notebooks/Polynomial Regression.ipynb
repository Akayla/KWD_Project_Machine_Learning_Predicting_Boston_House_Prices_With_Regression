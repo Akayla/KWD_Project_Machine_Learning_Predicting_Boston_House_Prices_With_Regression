{
 "cells": [
  {
   "cell_type": "code",
   "execution_count": 1,
   "metadata": {},
   "outputs": [],
   "source": [
    "### Funkcje wielomianowe za pomocą klasy PolynomialFeatures - jak utworzyć\n",
    "### Wygeneruj nową macierz cech składającą się ze wszystkich wielomianowych kombinacji cech \n",
    "### o stopniu mniejszym lub równym podanemu stopniowi. \n",
    "\n",
    "### Na przykład, jeśli próbka wejściowa jest dwuwymiarowa i ma postać [a, b], \n",
    "### cechy wielomianowe stopnia-2 to [1, a, b, a ^ 2, ab, b ^ 2]."
   ]
  },
  {
   "cell_type": "code",
   "execution_count": 4,
   "metadata": {},
   "outputs": [
    {
     "name": "stdout",
     "output_type": "stream",
     "text": [
      "(506, 13)\n"
     ]
    }
   ],
   "source": [
    "### Tworzymy i dzielimy nasze dane\n",
    "\n",
    "from sklearn import datasets\n",
    "from sklearn.model_selection import train_test_split\n",
    "\n",
    "###                                                         Jeśli True, zwraca (dane, cel) zamiast\n",
    "###                                                    \\/----grupę obiektów (testujace i uczace)\n",
    "housing_data, housing_target = datasets.load_boston(return_X_y = True)\n",
    "print(housing_data.shape) #Mamy 506 domków z 13ma cechami\n",
    "\n",
    "# Wykonujemy podzial naszych danych na czesc testujaca i uczaca\n",
    "housig_train, housig_test, housig_train_t, housig_test_t = \\\n",
    "train_test_split(housing_data, housing_target, test_size=0.1, random_state=1010)"
   ]
  },
  {
   "cell_type": "code",
   "execution_count": 5,
   "metadata": {},
   "outputs": [],
   "source": [
    "### Trenujemy regresję liniową by sprawdzić, który z modeli będzie bardziej korzystny\n",
    "### Model liniowy czy model wielomianowy (oczywiscie ze ten drugi xD)"
   ]
  },
  {
   "cell_type": "code",
   "execution_count": 9,
   "metadata": {},
   "outputs": [
    {
     "name": "stdout",
     "output_type": "stream",
     "text": [
      "Średni błąd kwadratowy naszego modelu wynosi: 27.38\n",
      "Współczynnik determinacji: 0.78\n"
     ]
    }
   ],
   "source": [
    "from sklearn.linear_model import LinearRegression\n",
    "from sklearn.metrics import mean_squared_error\n",
    "from sklearn.metrics import r2_score\n",
    "\n",
    "### Przyklad tworzenia regresji liniowej z normalizacją i jego nauka\n",
    "lr = LinearRegression(normalize=True)\n",
    "lr.fit(housig_train, housig_train_t)\n",
    "\n",
    "### Sprawdzamy bledy\n",
    "print(\"Średni błąd kwadratowy naszego modelu wynosi: %.2f\" % \n",
    "      mean_squared_error(housig_test_t, lr.predict(housig_test)))\n",
    "print('Współczynnik determinacji: %.2f' % r2_score(housig_test_t, lr.predict(housig_test)))"
   ]
  },
  {
   "cell_type": "code",
   "execution_count": 10,
   "metadata": {},
   "outputs": [],
   "source": [
    "### Tworzymy model wielomianowy (punkt 5 na zagadnieniach)"
   ]
  },
  {
   "cell_type": "code",
   "execution_count": 14,
   "metadata": {},
   "outputs": [
    {
     "name": "stdout",
     "output_type": "stream",
     "text": [
      "Średni błąd kwadratowy naszego modelu wynosi: 16.37\n",
      "Współczynnik determinacji: 0.87\n"
     ]
    }
   ],
   "source": [
    "from sklearn.preprocessing import PolynomialFeatures\n",
    "\n",
    "### Wielomian drugiego stopnia - 2, dla 3 byloby 3 itd. Musmy stworzyć obiekt klasy Linear Regression oraz Polynomial Features\n",
    "pt = PolynomialFeatures(2)\n",
    "lr_poly = LinearRegression(normalize = True)\n",
    "\n",
    "### Train Polynomial Features\n",
    "housig_train_poly = pt.fit_transform(housig_train) \n",
    "lr_poly.fit(housig_train_poly, housig_train_t)\n",
    "\n",
    "### Do sprawdzania bledu kwadratowego i wspolczynnika determinacji tworzymy Test Polynomial Features\n",
    "housig_test_poly = pt.fit_transform(housig_test)\n",
    "\n",
    "### Sprawdzamy bledy\n",
    "print(\"Średni błąd kwadratowy naszego modelu wynosi: %.2f\" % \n",
    "       mean_squared_error(housig_test_t, lr_poly.predict(housig_test_poly)))\n",
    "\n",
    "score = lr_poly.score(housig_test_poly, housig_test_t) #r2_score\n",
    "print('Współczynnik determinacji: %.2f' % score)"
   ]
  },
  {
   "cell_type": "code",
   "execution_count": 15,
   "metadata": {},
   "outputs": [],
   "source": [
    "### Rekurencyjna ekstrakcja cech - RFE\n",
    "\n",
    "### Biorąc pod uwagę zewnętrzny estymator, który przypisuje wagi do cech \n",
    "### (np. Współczynniki modelu liniowego), celem eliminacji cech rekurencyjnych (RFE) \n",
    "### jest wybranie cech poprzez rekurencyjne uwzględnianie coraz mniejszych zestawów cech. \n",
    "\n",
    "### Po pierwsze, estymator jest szkolony na temat początkowego zestawu cech, a znaczenie \n",
    "### każdej cechy jest uzyskiwane albo przez atrybut coef_, albo poprzez atrybut_importances_. \n",
    "\n",
    "### Następnie najmniej ważne funkcje są wyrzucane z bieżącego zestawu funkcji. \n",
    "### Tę procedurę powtarza się rekursywnie na przycinanym zestawie, aż w końcu zostanie osiągnięta \n",
    "### żądana liczba funkcji do wyboru."
   ]
  },
  {
   "cell_type": "code",
   "execution_count": 19,
   "metadata": {},
   "outputs": [
    {
     "name": "stdout",
     "output_type": "stream",
     "text": [
      "[False  True  True  True  True  True  True  True  True  True False  True\n",
      " False  True False  True  True  True  True  True False  True  True  True\n",
      "  True False  True False False  True  True  True False False False False\n",
      " False False False  True  True  True  True False  True  True False False\n",
      " False  True  True  True  True False  True  True  True  True  True  True\n",
      "  True  True  True  True  True  True  True False  True  True False  True\n",
      "  True False  True False  True False False False False False False False\n",
      "  True  True False False False  True  True False  True False  True False\n",
      " False False False False False False False False  True]\n",
      "[46  1  1  1  1  1  1  1  1  1  2  1 15  1 32  1  1  1  1  1 20  1  1  1\n",
      "  1 30  1 31 22  1  1  1 26 21 39 34 23 29 17  1  1  1  1 35  1  1 36 11\n",
      " 24  1  1  1  1 13  1  1  1  1  1  1  1  1  1  1  1  1  1  8  1  1 12  1\n",
      "  1  6  1 16  1 41 37  4 38 19 28 14  1  1 33  3  9  1  1 10  1 25  1 43\n",
      " 18 42 44  5 27  7 45 40  1]\n",
      "\n",
      "Średni błąd kwadratowy naszego modelu wynosi: 14.84\n",
      "Współczynnik determinacji: 0.88\n"
     ]
    }
   ],
   "source": [
    "from sklearn.feature_selection import RFE\n",
    "\n",
    "### Do dzialania potrzebujemy housig_train_poly!\n",
    "sel_ = RFE(estimator=LinearRegression(normalize=False), n_features_to_select=60)\n",
    "sel_.fit(housig_train_poly, housig_train_t)\n",
    "\n",
    "print(sel_.support_)\n",
    "print(sel_.ranking_) #waznosc\n",
    "print()\n",
    "\n",
    "### Sprawdzamy bledy po RFE\n",
    "print(\"Średni błąd kwadratowy naszego modelu wynosi: %.2f\" % \n",
    "       mean_squared_error(housig_test_t, sel_.predict(housig_test_poly)))\n",
    "\n",
    "score = sel_.score(housig_test_poly, housig_test_t) #r2_score\n",
    "print('Współczynnik determinacji: %.2f' % score)"
   ]
  },
  {
   "cell_type": "code",
   "execution_count": 39,
   "metadata": {},
   "outputs": [],
   "source": [
    "### Zadanie z lab 02 korzystajac z domow w bostonie\n",
    "\n",
    "### Przedstaw na wykresie, jak zmienia się jakość rozwiązania (sredni blad kwadratu) \n",
    "### wraz ze zmiana stopnia wielomianu odpowiednio dla [1, 2, 3, 4, 5]\n",
    "\n",
    "### Nastepnie wygeneruj funkcje wielomianowa stopnia 3 i sprawdz jakosc rozwiazania\n",
    "\n",
    "### W ostatnim kroku skorzystaj z RFE i wykaż na wykresie\n",
    "### blad sredniej kwadratowej dla wartosci [5, 10, 15, 20, 25, 30, 35, 40, 45, 50, 55, 60] dla n_features_to_select"
   ]
  },
  {
   "cell_type": "code",
   "execution_count": 58,
   "metadata": {},
   "outputs": [
    {
     "data": {
      "image/png": "[encoded data removed]",
      "text/plain": [
       "<Figure size 432x288 with 1 Axes>"
      ]
     },
     "metadata": {
      "needs_background": "light"
     },
     "output_type": "display_data"
    },
    {
     "data": {
      "image/png": "[encoded data removed]",
      "text/plain": [
       "<Figure size 432x288 with 1 Axes>"
      ]
     },
     "metadata": {
      "needs_background": "light"
     },
     "output_type": "display_data"
    },
    {
     "name": "stdout",
     "output_type": "stream",
     "text": [
      "\n",
      "Średni błąd kwadratowy naszego modelu wynosi: 725198.96\n",
      "Współczynnik determinacji: -5787.32\n"
     ]
    }
   ],
   "source": [
    "from sklearn import datasets\n",
    "from sklearn.model_selection import train_test_split\n",
    "from sklearn.linear_model import LinearRegression\n",
    "from sklearn.metrics import mean_squared_error\n",
    "from sklearn.preprocessing import PolynomialFeatures\n",
    "\n",
    "### Krok 1 - zdefiniuj tablice, w ktorej przechowywane beda obliczane wyniki bledow kwadratowych oraz tablice dla\n",
    "### przechowywania wartosci stopnia wielomianow\n",
    "\n",
    "#pomijamy 3kę, bo tam za duży bład wychodził i nic nie było widać\n",
    "tab_stopien = [1, 2, 4, 5]\n",
    "tab_bledy_testujace = []\n",
    "tab_bledy_uczace = []\n",
    "\n",
    "\n",
    "### Krok 2 - przygotuj dane dla wielomianowych regresji\n",
    "housing_data, housing_target = datasets.load_boston(return_X_y = True)\n",
    "\n",
    "housig_train, housig_test, housig_train_t, housig_test_t = \\\n",
    "train_test_split(housing_data, housing_target, test_size=0.1, random_state=1010)\n",
    "\n",
    "### Krok 3 - wykonaj iteracyjnie nauczanie modelu regresji wielomianowej i zapamietaj, jakie bledy otrzymales\n",
    "for i in tab_stopien:\n",
    "    \n",
    "    pt = PolynomialFeatures(i)\n",
    "    lr_poly = LinearRegression(normalize = True)\n",
    "    \n",
    "    #Trenujemy\n",
    "    housig_train_poly = pt.fit_transform(housig_train) \n",
    "    lr_poly.fit(housig_train_poly, housig_train_t)\n",
    "    \n",
    "    #Tworzymy dla testu\n",
    "    housig_test_poly = pt.fit_transform(housig_test)\n",
    "    \n",
    "    #Zapamietujemy blad\n",
    "    tab_bledy_testujace.append(mean_squared_error(housig_test_t, lr_poly.predict(housig_test_poly)))\n",
    "    tab_bledy_uczace.append(mean_squared_error(housig_train_t, lr_poly.predict(housig_train_poly)))\n",
    "    \n",
    "    \n",
    "### Krok 4 - tworzymy wykres dla testujacych\n",
    "import matplotlib.pyplot as plt\n",
    "%matplotlib inline \n",
    "plt.plot(tab_stopien, tab_bledy_testujace)\n",
    "plt.show()    \n",
    "    \n",
    "### Krok 5 - tworzymy wykres dla uczacych\n",
    "plt.plot(tab_stopien, tab_bledy_uczace)\n",
    "plt.show()\n",
    "print()\n",
    "\n",
    "### Czesc 1/3 ukonczona\n",
    "\n",
    "### Krok 1 - Tworzymy i dzielimy nasze dane\n",
    "\n",
    "housing_data, housing_target = datasets.load_boston(return_X_y = True)\n",
    "housig_train, housig_test, housig_train_t, housig_test_t = \\\n",
    "train_test_split(housing_data, housing_target, test_size=0.1, random_state=1010)\n",
    "\n",
    "### Krok 2 - Tworzymy regresje wielomianowa trzeciego stopnia\n",
    "pt = PolynomialFeatures(3)\n",
    "lr_poly = LinearRegression(normalize = True)\n",
    "housig_train_poly = pt.fit_transform(housig_train) \n",
    "lr_poly.fit(housig_train_poly, housig_train_t)\n",
    "\n",
    "### Krok 3 - Do sprawdzania bledu kwadratowego i wspolczynnika determinacji tworzymy Test Polynomial Features\n",
    "housig_test_poly = pt.fit_transform(housig_test)\n",
    "\n",
    "### Krok 4 - Sprawdzamy bledy\n",
    "print(\"Średni błąd kwadratowy naszego modelu wynosi: %.2f\" % \n",
    "       mean_squared_error(housig_test_t, lr_poly.predict(housig_test_poly)))\n",
    "\n",
    "score = lr_poly.score(housig_test_poly, housig_test_t) #r2_score\n",
    "print('Współczynnik determinacji: %.2f' % score)\n",
    "\n",
    "### Czesc 2/3 ukonczona, jak można również zauważyć, błąd jest tak duży że trzeba było go usunać z wykresu! XD"
   ]
  },
  {
   "cell_type": "code",
   "execution_count": 62,
   "metadata": {},
   "outputs": [
    {
     "data": {
      "image/png": "[encoded data removed]",
      "text/plain": [
       "<Figure size 432x288 with 1 Axes>"
      ]
     },
     "metadata": {
      "needs_background": "light"
     },
     "output_type": "display_data"
    },
    {
     "data": {
      "image/png": "[encoded data removed]",
      "text/plain": [
       "<Figure size 432x288 with 1 Axes>"
      ]
     },
     "metadata": {
      "needs_background": "light"
     },
     "output_type": "display_data"
    }
   ],
   "source": [
    "tab_RFE = [5, 10, 15, 20, 25, 30, 35, 40, 45, 50, 55, 60]\n",
    "tab_test = []\n",
    "tab_bledy_testujaceRFE = []\n",
    "tab_bledy_uczaceRFE = []\n",
    "\n",
    "### Krok 1 - Tworzymy i dzielimy nasze dane\n",
    "housing_data, housing_target = datasets.load_boston(return_X_y = True)\n",
    "housig_train, housig_test, housig_train_t, housig_test_t = \\\n",
    "train_test_split(housing_data, housing_target, test_size=0.1, random_state=1010)\n",
    "\n",
    "### Krok 2 - Tworzymy wielomian 2 (albo 3 itd) stopnia i tworzymy housig_train_poly oraz housig_test_poly\n",
    "pt = PolynomialFeatures(2)\n",
    "lr_poly = LinearRegression(normalize = True)\n",
    "housig_train_poly = pt.fit_transform(housig_train) \n",
    "housig_test_poly = pt.fit_transform(housig_test)\n",
    "\n",
    "### Krok 3 - W petli zapamietujemy wyniki\n",
    "for i in tab_RFE:\n",
    "    sel_ = RFE(estimator=LinearRegression(normalize=True), n_features_to_select=i)\n",
    "    sel_.fit(housig_train_poly, housig_train_t)\n",
    "    tab_bledy_testujaceRFE.append(mean_squared_error(housig_test_t, sel_.predict(housig_test_poly)))\n",
    "    tab_bledy_uczaceRFE.append(mean_squared_error(housig_train_t, sel_.predict(housig_train_poly)))\n",
    "\n",
    "### Krok 4 - rysujemy wykresy\n",
    "plt.plot(tab_RFE, tab_bledy_testujaceRFE)\n",
    "plt.show()\n",
    "\n",
    "plt.plot(tab_RFE, tab_bledy_uczaceRFE)\n",
    "plt.show()"
   ]
  },
  {
   "cell_type": "code",
   "execution_count": null,
   "metadata": {},
   "outputs": [],
   "source": []
  }
 ],
 "metadata": {
  "kernelspec": {
   "display_name": "Python 3",
   "language": "python",
   "name": "python3"
  },
  "language_info": {
   "codemirror_mode": {
    "name": "ipython",
    "version": 3
   },
   "file_extension": ".py",
   "mimetype": "text/x-python",
   "name": "python",
   "nbconvert_exporter": "python",
   "pygments_lexer": "ipython3",
   "version": "3.7.4"
  }
 },
 "nbformat": 4,
 "nbformat_minor": 2
}
